{
 "cells": [
  {
   "cell_type": "code",
   "execution_count": null,
   "id": "12e1613f",
   "metadata": {},
   "outputs": [],
   "source": [
    "import cv2\n",
    "import time\n",
    "import matplotlib.pyplot as plt\n",
    "from skimage import color\n",
    "%matplotlib inline\n",
    "%matplotlib notebook"
   ]
  },
  {
   "cell_type": "code",
   "execution_count": null,
   "id": "bbfa7ea6",
   "metadata": {},
   "outputs": [],
   "source": [
    "camera_port = 0\n",
    "hsv = 'v'\n",
    "hsv_dict = {'h': 0, 's': 1, 'v': 2}\n",
    "camera = cv2.VideoCapture(camera_port)\n",
    "camera.set(3, 2000)\n",
    "camera.set(4, 2000)"
   ]
  },
  {
   "cell_type": "code",
   "execution_count": null,
   "id": "1dbdb1fb",
   "metadata": {},
   "outputs": [],
   "source": [
    "import cv2\n",
    "import matplotlib.pyplot as plt\n",
    "from matplotlib.animation import FuncAnimation\n",
    "\n",
    "def grab_frame(cap):\n",
    "    ret,frame = cap.read()\n",
    "    return cv2.cvtColor(frame,cv2.COLOR_BGR2RGB)\n",
    "\n",
    "#Initiate the two cameras\n",
    "cap1 = cv2.VideoCapture(0)\n",
    "\n",
    "#create two subplots\n",
    "#ax1 = plt.subplot(1,2,1)\n",
    "\n",
    "#create two image plots\n",
    "im1 = plt.imshow(grab_frame(cap1))\n",
    "\n",
    "def update(i):\n",
    "    print(i)\n",
    "    im1.set_data(grab_frame(cap1))\n",
    "    \n",
    "ani = FuncAnimation(plt.gcf(), update, interval=200)\n",
    "plt.show()"
   ]
  },
  {
   "cell_type": "code",
   "execution_count": null,
   "id": "0f137121",
   "metadata": {},
   "outputs": [],
   "source": []
  }
 ],
 "metadata": {
  "kernelspec": {
   "display_name": "Python 3",
   "language": "python",
   "name": "python3"
  },
  "language_info": {
   "codemirror_mode": {
    "name": "ipython",
    "version": 3
   },
   "file_extension": ".py",
   "mimetype": "text/x-python",
   "name": "python",
   "nbconvert_exporter": "python",
   "pygments_lexer": "ipython3",
   "version": "3.8.8"
  }
 },
 "nbformat": 4,
 "nbformat_minor": 5
}
