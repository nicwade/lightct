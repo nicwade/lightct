{
 "cells": [
  {
   "cell_type": "code",
   "execution_count": null,
   "id": "c33a61a6",
   "metadata": {},
   "outputs": [],
   "source": [
    "# initial setup\n",
    "import sys, os\n",
    "sys.path[0] = \"C:/Users/mbbxfnw2/Documents/MyDocuments/Git/lightct/\"\n",
    "import lightct\n",
    "import numpy as np\n",
    "import matplotlib.pyplot as plt\n",
    "%matplotlib inline\n",
    "#%load_ext autoreload\n",
    "#%autoreload 2"
   ]
  },
  {
   "cell_type": "code",
   "execution_count": null,
   "id": "3eb27bc4",
   "metadata": {},
   "outputs": [],
   "source": [
    "# set data folder\n",
    "folder_name = \"scan2\""
   ]
  },
  {
   "cell_type": "code",
   "execution_count": null,
   "id": "e9517c35",
   "metadata": {},
   "outputs": [],
   "source": [
    "# Collect and reconstruct the data\n",
    "scan_folder = os.path.join('C:/Users/mbbxfnw2/Documents/MyDocuments/test_folder/', folder_name)\n",
    "nproj = 100\n",
    "data = lightct.TomoScan(num_proj=nproj, folder=scan_folder, camera_port=1)\n",
    "data.auto_set_angles(30)\n",
    "data.auto_centre(window=700)\n",
    "data.set_crop(width=300, top=0, bottom=0)\n",
    "data.reconstruct(recon_alg='visualhulls')\n",
    "recon_slice1 = data.recon_data[:, 150, :]\n",
    "plt.imshow(np.transpose(recon_slice1))"
   ]
  }
 ],
 "metadata": {
  "kernelspec": {
   "display_name": "Python 3",
   "language": "python",
   "name": "python3"
  },
  "language_info": {
   "codemirror_mode": {
    "name": "ipython",
    "version": 3
   },
   "file_extension": ".py",
   "mimetype": "text/x-python",
   "name": "python",
   "nbconvert_exporter": "python",
   "pygments_lexer": "ipython3",
   "version": "3.8.8"
  }
 },
 "nbformat": 4,
 "nbformat_minor": 5
}
